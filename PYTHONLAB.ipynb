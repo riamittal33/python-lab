{
 "cells": [
  {
   "cell_type": "code",
   "execution_count": 1,
   "metadata": {},
   "outputs": [
    {
     "name": "stdout",
     "output_type": "stream",
     "text": [
      "name : ria mittal\n",
      "class : cse4a\n",
      "2K18CSUN01076\n"
     ]
    }
   ],
   "source": [
    "print(\"name : ria mittal\")\n",
    "print(\"class : cse4a\")\n",
    "print(\"2K18CSUN01076\")"
   ]
  },
  {
   "cell_type": "code",
   "execution_count": 2,
   "metadata": {},
   "outputs": [
    {
     "name": "stdout",
     "output_type": "stream",
     "text": [
      "ques 1\n"
     ]
    }
   ],
   "source": [
    "print(\"ques 1\")"
   ]
  },
  {
   "cell_type": "code",
   "execution_count": 3,
   "metadata": {},
   "outputs": [
    {
     "name": "stdout",
     "output_type": "stream",
     "text": [
      "Enter The First Side of Triangle :1\n",
      "Enter The Second Side of Triangle :2\n",
      "Enter The Third Side of Triangle:3\n",
      "The Sides Of Triangle are :\n",
      "1\n",
      "2\n",
      "3\n"
     ]
    }
   ],
   "source": [
    "class Triangle:\n",
    "    a=0\n",
    "    b=0\n",
    "    c=0\n",
    "    def create_triangle(self):\n",
    "        self.a=int(input(\"Enter The First Side of Triangle :\"))\n",
    "        self.b=int(input(\"Enter The Second Side of Triangle :\"))\n",
    "        self.c = int(input(\"Enter The Third Side of Triangle:\"))\n",
    "    def printside(self):\n",
    "        print(self.a)\n",
    "        print(self.b)\n",
    "        print(self.c)\n",
    "\n",
    "triangle=Triangle()\n",
    "triangle.create_triangle()\n",
    "print(\"The Sides Of Triangle are :\")\n",
    "triangle.printside()"
   ]
  },
  {
   "cell_type": "code",
   "execution_count": 4,
   "metadata": {},
   "outputs": [
    {
     "name": "stdout",
     "output_type": "stream",
     "text": [
      "ques 2\n"
     ]
    }
   ],
   "source": [
    "print(\"ques 2\")\n"
   ]
  },
  {
   "cell_type": "code",
   "execution_count": 5,
   "metadata": {},
   "outputs": [
    {
     "name": "stdout",
     "output_type": "stream",
     "text": [
      "Enter The String : hello\n",
      "input string is :  hello\n"
     ]
    }
   ],
   "source": [
    "class getSetStrng:\n",
    "    a=\"\"\n",
    "    def gets(self):\n",
    "        self.a=input(\"Enter The String : \")\n",
    "        return (self.a)\n",
    "strng=getSetStrng()\n",
    "print(\"input string is : \" ,strng.gets())"
   ]
  },
  {
   "cell_type": "code",
   "execution_count": 6,
   "metadata": {},
   "outputs": [
    {
     "name": "stdout",
     "output_type": "stream",
     "text": [
      "ques 3\n"
     ]
    }
   ],
   "source": [
    "print(\"ques 3\")"
   ]
  },
  {
   "cell_type": "code",
   "execution_count": 7,
   "metadata": {},
   "outputs": [
    {
     "name": "stdout",
     "output_type": "stream",
     "text": [
      "Enter The Length : 20\n",
      "Enter The width : 10\n",
      "The Perimeter of Rectangle is :  60\n"
     ]
    }
   ],
   "source": [
    "class Rectangle:\n",
    "    w=0\n",
    "    l=0\n",
    "    def calparameter(self):\n",
    "        self.l=int(input(\"Enter The Length : \"))\n",
    "        self.w=int(input(\"Enter The width : \"))\n",
    "        return (2*(self.l+self.w))\n",
    "rect1=Rectangle()\n",
    "print(\"The Perimeter of Rectangle is : \",rect1.calparameter())"
   ]
  },
  {
   "cell_type": "code",
   "execution_count": 8,
   "metadata": {},
   "outputs": [
    {
     "name": "stdout",
     "output_type": "stream",
     "text": [
      "ques 4\n"
     ]
    }
   ],
   "source": [
    "print(\"ques 4\")"
   ]
  },
  {
   "cell_type": "code",
   "execution_count": 9,
   "metadata": {},
   "outputs": [
    {
     "name": "stdout",
     "output_type": "stream",
     "text": [
      "The Area Of circle is 0.0\n",
      "The Perimeter of Circle is 0.0\n",
      "The Area Of circle is 0.0\n",
      "The Circumference of circle is 0.0\n"
     ]
    }
   ],
   "source": [
    "class Circle:\n",
    "    rad=0.0\n",
    "    def _init_(self):\n",
    "        self.rad=float(input(\"Enter The Radius\"))\n",
    "    def areac(self):\n",
    "        return (3.14*self.rad*self.rad)\n",
    "    def perr(self):\n",
    "        return (2*3.14*self.rad)\n",
    "c1=Circle()\n",
    "print(\"The Area Of circle is\" ,c1.areac())\n",
    "print(\"The Perimeter of Circle is\" , c1.perr())\n",
    "\n",
    "class Circle2:\n",
    "    rad=0.0\n",
    "    def _init_(self):\n",
    "        self.rad=float(input(\"Enter The Radius\"))\n",
    "    def areac(self):\n",
    "        return (3.14*self.rad*self.rad)\n",
    "    def circum(self):\n",
    "        return (2*3.14*self.rad)\n",
    "c2=Circle2()\n",
    "print(\"The Area Of circle is\" ,c2.areac())\n",
    "print(\"The Circumference of circle is\" , c2.circum())"
   ]
  },
  {
   "cell_type": "code",
   "execution_count": 10,
   "metadata": {},
   "outputs": [
    {
     "name": "stdout",
     "output_type": "stream",
     "text": [
      "ques 6\n"
     ]
    }
   ],
   "source": [
    "print(\"ques 6\")"
   ]
  },
  {
   "cell_type": "code",
   "execution_count": 11,
   "metadata": {},
   "outputs": [
    {
     "name": "stdout",
     "output_type": "stream",
     "text": [
      "Enter the Temp in F60\n",
      "The Conversion of F to C is 15.555555555555555\n",
      "Enter The Temp in c60\n",
      "The Conversion of C to F is 140.0\n"
     ]
    }
   ],
   "source": [
    "class Temp:\n",
    "    f=0.0\n",
    "    c=0.0\n",
    "    def convtofah(self):\n",
    "        self.f=int(input(\"Enter the Temp in F\"))\n",
    "        return ((self.f-32)/1.8)\n",
    "    def convtoCal(self):\n",
    "        self.c=int(input(\"Enter The Temp in c\"))\n",
    "        return ((self.c*1.8)+32)\n",
    "temp=Temp()\n",
    "print(\"The Conversion of F to C is\",temp.convtofah())\n",
    "print(\"The Conversion of C to F is\", temp.convtoCal())"
   ]
  },
  {
   "cell_type": "code",
   "execution_count": 12,
   "metadata": {},
   "outputs": [
    {
     "name": "stdout",
     "output_type": "stream",
     "text": [
      "ques 7\n"
     ]
    }
   ],
   "source": [
    "print(\"ques 7\")"
   ]
  },
  {
   "cell_type": "code",
   "execution_count": 13,
   "metadata": {},
   "outputs": [
    {
     "name": "stdout",
     "output_type": "stream",
     "text": [
      "('Ria', 30, '2K18CSUN01076')\n",
      "Enter The Age of Student : 20\n",
      "The age of Student is 20\n",
      "Enter The Marks Of Student : 25\n",
      "The Update Marks Of Student is 25\n"
     ]
    }
   ],
   "source": [
    "class student():\n",
    "    name=\"\"\n",
    "    marks=0\n",
    "    age=0\n",
    "    Roll_No=\"\"\n",
    "    def display(self):\n",
    "        return (self.name,self.marks,self.Roll_No)\n",
    "    def setage(self):\n",
    "        self.age=int(input(\"Enter The Age of Student : \"))\n",
    "        return (self.age)\n",
    "    def setmarks(self):\n",
    "        self.marks=int(input(\"Enter The Marks Of Student : \"))\n",
    "        return (self.marks)\n",
    "student1=student()\n",
    "student1.name=\"Ria\"\n",
    "student1.marks=30\n",
    "student1.Roll_No=\"2K18CSUN01076\"\n",
    "print(student1.display())\n",
    "print(\"The age of Student is\", student1.setage())\n",
    "print(\"The Update Marks Of Student is\", student1.setmarks())"
   ]
  },
  {
   "cell_type": "code",
   "execution_count": 14,
   "metadata": {},
   "outputs": [
    {
     "name": "stdout",
     "output_type": "stream",
     "text": [
      "ques 8\n"
     ]
    }
   ],
   "source": [
    "print(\"ques 8\")"
   ]
  },
  {
   "cell_type": "code",
   "execution_count": 24,
   "metadata": {},
   "outputs": [
    {
     "name": "stdout",
     "output_type": "stream",
     "text": [
      "Enter The Hour :  5\n",
      "Enter the minute : 10\n",
      "Enter Another hour : 3\n",
      "Enter Another Minute : 2\n",
      "The Total Time is : \n",
      "8 Hour and  12 min\n",
      "The Total Minute is :  492\n"
     ]
    }
   ],
   "source": [
    "class Time:\n",
    "    hour = 0\n",
    "    hour1 = 0\n",
    "    min = 0\n",
    "    min1 = 0\n",
    "    tothr=0\n",
    "    totmin=0\n",
    "\n",
    "    def addTime(self):\n",
    "        self.hour = int(input(\"Enter The Hour :  \"))\n",
    "        self.min = int(input(\"Enter the minute : \"))\n",
    "        self.hour1 = int(input(\"Enter Another hour : \"))\n",
    "        self.min1 = int(input(\"Enter Another Minute : \"))\n",
    "\n",
    "    def displaytime(self):\n",
    "        self.tothr=self.hour + self.hour1\n",
    "        self.totmin=self.min + self.min1\n",
    "        print(self.tothr,\"Hour and \",self.totmin,\"min\")\n",
    "    def displaymin(self):\n",
    "        return (60*self.tothr+self.totmin)\n",
    "time = Time()\n",
    "time.addTime()\n",
    "print(\"The Total Time is : \")\n",
    "time.displaytime()\n",
    "print(\"The Total Minute is : \",time.displaymin())\n"
   ]
  },
  {
   "cell_type": "code",
   "execution_count": null,
   "metadata": {},
   "outputs": [],
   "source": [
    "print(\"ques 9\")"
   ]
  },
  {
   "cell_type": "code",
   "execution_count": 25,
   "metadata": {},
   "outputs": [
    {
     "name": "stdout",
     "output_type": "stream",
     "text": [
      "Enter The String hello\n",
      "olleh\n"
     ]
    }
   ],
   "source": [
    "class reversestring:\n",
    "    a=\"\"\n",
    "    def rev_fun(self):\n",
    "        self.a=input(\"Enter The String \")\n",
    "        return self.a[::-1]\n",
    "rev=reversestring()\n",
    "print(rev.rev_fun())"
   ]
  },
  {
   "cell_type": "code",
   "execution_count": null,
   "metadata": {},
   "outputs": [],
   "source": []
  }
 ],
 "metadata": {
  "kernelspec": {
   "display_name": "Python 3",
   "language": "python",
   "name": "python3"
  },
  "language_info": {
   "codemirror_mode": {
    "name": "ipython",
    "version": 3
   },
   "file_extension": ".py",
   "mimetype": "text/x-python",
   "name": "python",
   "nbconvert_exporter": "python",
   "pygments_lexer": "ipython3",
   "version": "3.7.4"
  }
 },
 "nbformat": 4,
 "nbformat_minor": 2
}
